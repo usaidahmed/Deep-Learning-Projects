{
 "cells": [
  {
   "cell_type": "code",
   "execution_count": 1,
   "metadata": {},
   "outputs": [],
   "source": [
    "import os, shutil\n",
    "\n",
    "original_dataset_dir = \"C:/Users/usaid/Desktop/Covid-19-Detection/CovidDataset\"\n",
    "\n",
    "base_dir = \"C:/Users/usaid/Documents/CovidDataset\" \n",
    "os.mkdir(base_dir)\n",
    "\n",
    "train_dir = os.path.join(base_dir, 'train') \n",
    "os.mkdir(train_dir) \n",
    "\n",
    "validation_dir = os.path.join(base_dir, 'validation') \n",
    "os.mkdir(validation_dir) \n",
    "\n",
    "#test_dir = os.path.join(base_dir, 'test') \n",
    "#os.mkdir(test_dir)\n",
    "\n",
    "train_covid_dir = os.path.join(train_dir, 'train_covid') \n",
    "os.mkdir(train_covid_dir)\n",
    "\n",
    "train_normal_dir = os.path.join(train_dir, 'train_Normal') \n",
    "os.mkdir(train_normal_dir)\n",
    "\n",
    "validation_covid_dir = os.path.join(validation_dir, 'val_covid') \n",
    "os.mkdir(validation_covid_dir)\n",
    "\n",
    "validation_normal_dir = os.path.join(validation_dir, 'val_Normal') \n",
    "os.mkdir(validation_normal_dir)\n",
    "\n",
    "#test_covid_dir = os.path.join(test_dir, 'test_covid') \n",
    "#os.mkdir(test_covid_dir)\n",
    "\n",
    "#test_normal_dir = os.path.join(test_dir, 'test_Normal') \n",
    "#os.mkdir(test_normal_dir)"
   ]
  },
  {
   "cell_type": "code",
   "execution_count": null,
   "metadata": {},
   "outputs": [],
   "source": [
    "path = \"C:/Users/usaid/Desktop/Covid-19-Detection/CovidDataset/Train/Covid\"\n",
    "i = 0\n",
    "for filename in os.listdir(path):\n",
    "    os.rename(os.path.join(path,filename), os.path.join(path,'Covid'+str(i)+'.jpeg'))\n",
    "    i = i + 1\n",
    "    \n",
    "path = \"C:/Users/usaid/Desktop/Covid-19-Detection/CovidDataset/Train/Normal\"\n",
    "i = 0\n",
    "for filename in os.listdir(path):\n",
    "    os.rename(os.path.join(path,filename), os.path.join(path,'Normal'+str(i)+'.jpeg'))\n",
    "    i = i + 1 "
   ]
  },
  {
   "cell_type": "code",
   "execution_count": null,
   "metadata": {},
   "outputs": [],
   "source": [
    "path = \"C:/Users/usaid/Desktop/Covid-19-Detection/CovidDataset/Val/Covid\"\n",
    "i = 0\n",
    "for filename in os.listdir(path):\n",
    "    os.rename(os.path.join(path,filename), os.path.join(path,'Covid'+str(i)+'.jpeg'))\n",
    "    i = i + 1\n",
    "    \n",
    "path = \"C:/Users/usaid/Desktop/Covid-19-Detection/CovidDataset/Val/Normal\"\n",
    "i = 0\n",
    "for filename in os.listdir(path):\n",
    "    os.rename(os.path.join(path,filename), os.path.join(path,'Normal'+str(i)+'.jpeg'))\n",
    "    i = i + 1 "
   ]
  },
  {
   "cell_type": "code",
   "execution_count": 2,
   "metadata": {},
   "outputs": [],
   "source": [
    "path = \"C:/Users/usaid/Desktop/Covid-19-Detection/CovidDataset/Train/Covid\"\n",
    "fnames = ['Covid{}.jpeg'.format(i) for i in range(112)] \n",
    "for fname in fnames: \n",
    "    src = os.path.join(path, fname) \n",
    "    dst = os.path.join(train_covid_dir, fname) \n",
    "    shutil.copyfile(src, dst)        "
   ]
  },
  {
   "cell_type": "code",
   "execution_count": 3,
   "metadata": {},
   "outputs": [],
   "source": [
    "path = \"C:/Users/usaid/Desktop/Covid-19-Detection/CovidDataset/Train/Normal\"\n",
    "fnames = ['Normal{}.jpeg'.format(i) for i in range(112)] \n",
    "for fname in fnames: \n",
    "    src = os.path.join(path, fname) \n",
    "    dst = os.path.join(train_normal_dir, fname) \n",
    "    shutil.copyfile(src, dst)        "
   ]
  },
  {
   "cell_type": "code",
   "execution_count": 4,
   "metadata": {},
   "outputs": [],
   "source": [
    "path = \"C:/Users/usaid/Desktop/Covid-19-Detection/CovidDataset/Val/Covid\"\n",
    "fnames = ['Covid{}.jpeg'.format(i) for i in range(30)] \n",
    "for fname in fnames: \n",
    "    src = os.path.join(path, fname) \n",
    "    dst = os.path.join(validation_covid_dir, fname) \n",
    "    shutil.copyfile(src, dst)        "
   ]
  },
  {
   "cell_type": "code",
   "execution_count": 5,
   "metadata": {},
   "outputs": [],
   "source": [
    "path = \"C:/Users/usaid/Desktop/Covid-19-Detection/CovidDataset/Val/Normal\"\n",
    "fnames = ['Normal{}.jpeg'.format(i) for i in range(30)] \n",
    "for fname in fnames: \n",
    "    src = os.path.join(path, fname) \n",
    "    dst = os.path.join(validation_normal_dir, fname) \n",
    "    shutil.copyfile(src, dst)        "
   ]
  },
  {
   "cell_type": "code",
   "execution_count": 6,
   "metadata": {},
   "outputs": [
    {
     "name": "stdout",
     "output_type": "stream",
     "text": [
      "total training covid images: 112\n",
      "total training normal images: 112\n",
      "total validation covid images: 30\n",
      "total validation normal images: 30\n"
     ]
    }
   ],
   "source": [
    "print(\"total training covid images:\", len(os.listdir(train_covid_dir)))\n",
    " \n",
    "print(\"total training normal images:\", len(os.listdir(train_normal_dir)))\n",
    " \n",
    "print(\"total validation covid images:\", len(os.listdir(validation_covid_dir)))\n",
    " \n",
    "print(\"total validation normal images:\", len(os.listdir(validation_normal_dir)))"
   ]
  },
  {
   "cell_type": "code",
   "execution_count": 16,
   "metadata": {},
   "outputs": [],
   "source": [
    "from tensorflow.keras import layers \n",
    "from tensorflow.keras import models\n",
    "\n",
    "model = models.Sequential()\n",
    "\n",
    "model.add(layers.Conv2D(32, (3, 3), activation='relu',\n",
    "                        input_shape=(250, 250, 3)))\n",
    "model.add(layers.MaxPooling2D((2, 2)))\n",
    "model.add(layers.Conv2D(32, (3, 3), activation = \"relu\"))\n",
    "model.add(layers.MaxPooling2D((2, 2)))\n",
    "model.add(layers.Dropout(0.3))\n",
    "model.add(layers.Conv2D(32, (3, 3), activation = \"relu\"))\n",
    "model.add(layers.MaxPooling2D((2, 2)))\n",
    "model.add(layers.Dropout(0.3))\n",
    "model.add(layers.Flatten())\n",
    "model.add(layers.Dense(128, activation='relu'))\n",
    "model.add(layers.Dense(1, activation='sigmoid'))\n",
    "model.compile(loss='binary_crossentropy',\n",
    "              optimizer=\"RMSprop\",\n",
    "              metrics=['acc'])"
   ]
  },
  {
   "cell_type": "code",
   "execution_count": null,
   "metadata": {},
   "outputs": [],
   "source": []
  },
  {
   "cell_type": "code",
   "execution_count": 17,
   "metadata": {},
   "outputs": [],
   "source": [
    "from tensorflow.keras.preprocessing.image import ImageDataGenerator\n",
    "\n",
    "train_datagen = ImageDataGenerator(\n",
    "    rescale=1./255,\n",
    "    rotation_range=0,\n",
    "    width_shift_range=0.0,\n",
    "    height_shift_range=0.0,\n",
    "    shear_range=0.0,\n",
    "    zoom_range=0.1,\n",
    "    horizontal_flip=True,\n",
    "    fill_mode=\"nearest\")\n",
    "\n",
    "val_datagen = ImageDataGenerator(\n",
    "    rescale=1./255,\n",
    "    rotation_range=0,\n",
    "    width_shift_range=0.0,\n",
    "    height_shift_range=0.0,\n",
    "    shear_range=0.0,\n",
    "    zoom_range=0.1,\n",
    "    horizontal_flip=True,\n",
    "    fill_mode=\"nearest\")"
   ]
  },
  {
   "cell_type": "code",
   "execution_count": 18,
   "metadata": {},
   "outputs": [
    {
     "name": "stdout",
     "output_type": "stream",
     "text": [
      "Found 224 images belonging to 2 classes.\n",
      "Found 60 images belonging to 2 classes.\n"
     ]
    }
   ],
   "source": [
    "#train_datagen = ImageDataGenerator(rescale= 1./255)\n",
    "#val_datagen = ImageDataGenerator(rescale= 1./255)\n",
    "train_generator = train_datagen.flow_from_directory(\n",
    "    train_dir,\n",
    "    target_size=(250, 250),\n",
    "    batch_size=20,\n",
    "    class_mode='binary')\n",
    "\n",
    "val_generator = val_datagen.flow_from_directory( \n",
    "    validation_dir,\n",
    "    target_size=(250, 250),\n",
    "    batch_size=20,\n",
    "    class_mode='binary')"
   ]
  },
  {
   "cell_type": "code",
   "execution_count": 19,
   "metadata": {},
   "outputs": [
    {
     "name": "stdout",
     "output_type": "stream",
     "text": [
      "Epoch 1/20\n",
      "12/12 [==============================] - 9s 771ms/step - loss: 1.2888 - acc: 0.6339 - val_loss: 1.1821 - val_acc: 0.5000\n",
      "Epoch 2/20\n",
      "12/12 [==============================] - 7s 579ms/step - loss: 0.7773 - acc: 0.8884 - val_loss: 0.4662 - val_acc: 0.9167\n",
      "Epoch 3/20\n",
      "12/12 [==============================] - 7s 602ms/step - loss: 0.2879 - acc: 0.9062 - val_loss: 0.3011 - val_acc: 0.9000\n",
      "Epoch 4/20\n",
      "12/12 [==============================] - 7s 587ms/step - loss: 0.1339 - acc: 0.9420 - val_loss: 0.1243 - val_acc: 0.9667\n",
      "Epoch 5/20\n",
      "12/12 [==============================] - 7s 601ms/step - loss: 0.2963 - acc: 0.8705 - val_loss: 0.1753 - val_acc: 0.9500\n",
      "Epoch 6/20\n",
      "12/12 [==============================] - 7s 596ms/step - loss: 0.2445 - acc: 0.9286 - val_loss: 0.2832 - val_acc: 0.9167\n",
      "Epoch 7/20\n",
      "12/12 [==============================] - 7s 578ms/step - loss: 0.2053 - acc: 0.9375 - val_loss: 0.1685 - val_acc: 0.9500\n",
      "Epoch 8/20\n",
      "12/12 [==============================] - 7s 593ms/step - loss: 0.0462 - acc: 0.9911 - val_loss: 0.3375 - val_acc: 0.9500\n",
      "Epoch 9/20\n",
      "12/12 [==============================] - 7s 595ms/step - loss: 0.1975 - acc: 0.9152 - val_loss: 0.1447 - val_acc: 0.9667\n",
      "Epoch 10/20\n",
      "12/12 [==============================] - 7s 605ms/step - loss: 0.2343 - acc: 0.9018 - val_loss: 0.2013 - val_acc: 0.9500\n",
      "Epoch 11/20\n",
      "12/12 [==============================] - 7s 587ms/step - loss: 0.0815 - acc: 0.9688 - val_loss: 0.1242 - val_acc: 0.9667\n",
      "Epoch 12/20\n",
      "12/12 [==============================] - 7s 591ms/step - loss: 0.0840 - acc: 0.9688 - val_loss: 0.1555 - val_acc: 0.9667\n",
      "Epoch 13/20\n",
      "12/12 [==============================] - 7s 576ms/step - loss: 0.0964 - acc: 0.9732 - val_loss: 0.1566 - val_acc: 0.9667\n",
      "Epoch 14/20\n",
      "12/12 [==============================] - 7s 611ms/step - loss: 0.0379 - acc: 0.9821 - val_loss: 0.1486 - val_acc: 0.9667\n",
      "Epoch 15/20\n",
      "12/12 [==============================] - 7s 592ms/step - loss: 0.3444 - acc: 0.9018 - val_loss: 0.4846 - val_acc: 0.8167\n",
      "Epoch 16/20\n",
      "12/12 [==============================] - 7s 598ms/step - loss: 0.0660 - acc: 0.9866 - val_loss: 0.1063 - val_acc: 0.9667\n",
      "Epoch 17/20\n",
      "12/12 [==============================] - 7s 608ms/step - loss: 0.0897 - acc: 0.9554 - val_loss: 0.1293 - val_acc: 0.9667\n",
      "Epoch 18/20\n",
      "12/12 [==============================] - 7s 613ms/step - loss: 0.0410 - acc: 0.9911 - val_loss: 0.1845 - val_acc: 0.9500\n",
      "Epoch 19/20\n",
      "12/12 [==============================] - 7s 597ms/step - loss: 0.0039 - acc: 1.0000 - val_loss: 0.2911 - val_acc: 0.9667\n",
      "Epoch 20/20\n",
      "12/12 [==============================] - 7s 601ms/step - loss: 0.8451 - acc: 0.9554 - val_loss: 0.1785 - val_acc: 0.9500\n"
     ]
    }
   ],
   "source": [
    "history = model.fit_generator(\n",
    "train_generator,\n",
    "epochs = 20,\n",
    "validation_data = val_generator)"
   ]
  },
  {
   "cell_type": "code",
   "execution_count": 20,
   "metadata": {},
   "outputs": [
    {
     "data": {
      "text/plain": [
       "[0.1841504747668902, 0.95]"
      ]
     },
     "execution_count": 20,
     "metadata": {},
     "output_type": "execute_result"
    }
   ],
   "source": [
    "model.evaluate_generator(val_generator)"
   ]
  },
  {
   "cell_type": "code",
   "execution_count": 15,
   "metadata": {},
   "outputs": [
    {
     "data": {
      "text/plain": [
       "<matplotlib.legend.Legend at 0x1e51bb75788>"
      ]
     },
     "execution_count": 15,
     "metadata": {},
     "output_type": "execute_result"
    },
    {
     "data": {
      "image/png": "[encoded data removed]",
      "text/plain": [
       "<Figure size 432x288 with 1 Axes>"
      ]
     },
     "metadata": {
      "needs_background": "light"
     },
     "output_type": "display_data"
    },
    {
     "data": {
      "image/png": "[encoded data removed]",
      "text/plain": [
       "<Figure size 432x288 with 1 Axes>"
      ]
     },
     "metadata": {
      "needs_background": "light"
     },
     "output_type": "display_data"
    }
   ],
   "source": [
    "import matplotlib.pyplot as plt\n",
    "plt.plot(history.history[\"acc\"], label = \"Training Accuracy\")\n",
    "plt.plot(history.history[\"val_acc\"], label = \"val_accuracy\")\n",
    "plt.title(\"Accuracy\")\n",
    "plt.xlabel(\"epochs\")\n",
    "plt.ylabel(\"accuracy\")\n",
    "plt.legend()\n",
    "\n",
    "plt.figure()\n",
    "plt.plot(history.history[\"loss\"], label = \"Training Loss\")\n",
    "plt.plot(history.history[\"val_loss\"], label = \"val_Loss\")\n",
    "plt.title(\"Loss\")\n",
    "plt.xlabel(\"epochs\")\n",
    "plt.ylabel(\"loss\")\n",
    "plt.legend()"
   ]
  },
  {
   "cell_type": "code",
   "execution_count": null,
   "metadata": {},
   "outputs": [],
   "source": []
  }
 ],
 "metadata": {
  "kernelspec": {
   "display_name": "Python 3",
   "language": "python",
   "name": "python3"
  },
  "language_info": {
   "codemirror_mode": {
    "name": "ipython",
    "version": 3
   },
   "file_extension": ".py",
   "mimetype": "text/x-python",
   "name": "python",
   "nbconvert_exporter": "python",
   "pygments_lexer": "ipython3",
   "version": "3.7.6"
  }
 },
 "nbformat": 4,
 "nbformat_minor": 4
}
